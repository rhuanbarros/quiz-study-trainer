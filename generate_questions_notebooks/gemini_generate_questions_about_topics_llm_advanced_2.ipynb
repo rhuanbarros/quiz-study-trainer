{
 "cells": [
  {
   "cell_type": "code",
   "execution_count": 1,
   "metadata": {},
   "outputs": [],
   "source": [
    "from datetime import datetime\n",
    "import json"
   ]
  },
  {
   "cell_type": "code",
   "execution_count": null,
   "metadata": {},
   "outputs": [],
   "source": [
    "import anvil.server\n",
    "\n",
    "anvil.server.connect(\"client_KYOM4YFDIE4TMEO3UAOTEPRC-55C7JZ62MGB2UXA6\")"
   ]
  },
  {
   "cell_type": "code",
   "execution_count": 3,
   "metadata": {},
   "outputs": [],
   "source": [
    "from anvil.tables import app_tables\n",
    "\n",
    "questions = app_tables.questions.search()"
   ]
  },
  {
   "cell_type": "code",
   "execution_count": null,
   "metadata": {},
   "outputs": [],
   "source": [
    "from dotenv import load_dotenv\n",
    "import json_repair\n",
    "import os\n",
    "\n",
    "import google.generativeai as genai\n",
    "\n",
    "\n",
    "key_gemini = os.environ[\"GOOGLE_API_KEY\"]\n",
    "\n",
    "genai.configure(api_key=key_gemini)"
   ]
  },
  {
   "cell_type": "code",
   "execution_count": 5,
   "metadata": {},
   "outputs": [],
   "source": [
    "# Create the model\n",
    "generation_config = {\n",
    "    \"temperature\": 1,\n",
    "    \"top_p\": 0.95,\n",
    "    \"top_k\": 64,\n",
    "    \"max_output_tokens\": 8192,\n",
    "    \"response_mime_type\": \"application/json\",\n",
    "}\n",
    "\n",
    "llm_gemini = genai.GenerativeModel(\n",
    "    model_name=\"gemini-1.5-flash\",\n",
    "    generation_config=generation_config,\n",
    "    # safety_settings = Adjust safety settings\n",
    "    # See https://ai.google.dev/gemini-api/docs/safety-settings\n",
    ")"
   ]
  },
  {
   "cell_type": "code",
   "execution_count": 6,
   "metadata": {},
   "outputs": [],
   "source": [
    "json_schema = \"\"\"\n",
    "  {\n",
    "    \"topic_description\": {\n",
    "      \"type\": \"string\",\n",
    "      \"description\": \"A sentence describing the sub-topic to which the question belongs. That means this sentence should specify in a granular level what specific sub-topic the question belongs to. It should be abstract in a way that other questions could be put in this description too. Use between 5 and 10 words.\"\n",
    "    },\n",
    "    \"level\": {\n",
    "      \"type\": \"string\",\n",
    "      \"description\": \"The difficulty level of the question. It should be only one of the following options: 'beginner', 'intermediate', 'advanced'.\"\n",
    "    },\n",
    "    \"question\": {\n",
    "      \"type\": \"string\",\n",
    "      \"description\": \"The actual question text. It should be a question of type TRUE or FALSE. It means that the questions should be an assertion that could be answered with TRUE or FALSE.\"\n",
    "    },\n",
    "    \"answer_correct\": {\n",
    "      \"type\": \"string\",\n",
    "      \"description\": \"The correct answer to the question. It should be only one of the following options: TRUE or FALSE\"\n",
    "    },\n",
    "    \"explanation\": {\n",
    "      \"type\": \"string\",\n",
    "      \"description\": \"An explanation or solution to the question.\"\n",
    "    }\n",
    "  }\n",
    "\"\"\""
   ]
  },
  {
   "cell_type": "code",
   "execution_count": 7,
   "metadata": {},
   "outputs": [],
   "source": [
    "prompt_question_generator = \"\"\"\n",
    "    TASK CONTEXT:\n",
    "    I am studying machine learning and I need to practice some questions on various topics.\n",
    "    \n",
    "    TASK DESCRIPTION:\n",
    "    I will provide you with a list of topics, and I would like you to generate a list of TRUE or FALSE questions.\n",
    "    These questions should be interesting, creative, challenging and thought-provoking. \n",
    "    Each question should be in the form of a statement that could be either TRUE or FALSE.\n",
    "    Feel free to be imaginative and attempt to confuse the student by blending related concepts or similar words.\n",
    "    I will provide the topics in the DOMAIN KNOWLEDGE section.\n",
    "    The questions should pertain to these topics, and you can use this knowledge as a foundation to create questions that delve deeper into the subject matter.\n",
    "    \n",
    "    ADDITIONAL TASK DESCRIPTION:\n",
    "    {additional_task_description}\n",
    "    \n",
    "    TASK REQUIREMENTS:\n",
    "    Please refrain from creating questions that require mathematical calculations, but you may create questions with mathematical formulas.\n",
    "    You SHOULD use LATEX to write mathematical formulas and code, but you should use the Katex flavor.\n",
    "    Also you should put $$ in the beggining of the katex code and $$ at the end of the code. This is necessary because the interpreter needs it.\n",
    "    \n",
    "    TASK DETAILS:\n",
    "    You should create {quantity} questions of level {level}.\n",
    "    \n",
    "    DOMAIN KNOWLEDGE:\n",
    "    {domain_knowledge}\n",
    "    \n",
    "    FORMAT OUTPUT INSTRUCTIONS:\n",
    "    It should be formatted in list of JSON objects as described below.\n",
    "    {json_schema}\n",
    "\"\"\""
   ]
  },
  {
   "cell_type": "code",
   "execution_count": 8,
   "metadata": {},
   "outputs": [],
   "source": [
    "topics = \"\"\"\n",
    "\n",
    "\"\"\""
   ]
  },
  {
   "cell_type": "code",
   "execution_count": 9,
   "metadata": {},
   "outputs": [],
   "source": [
    "lines = topics.splitlines()\n",
    "blocks = []\n",
    "block = []\n",
    "start_copy = False\n",
    "for line in lines:\n",
    "    # print(line)\n",
    "    \n",
    "    if line == \"\" and start_copy == False:\n",
    "        start_copy = True\n",
    "        continue\n",
    "\n",
    "    if line == \"\" and start_copy == True:\n",
    "        start_copy = False\n",
    "        blocks.append( \"\\n\".join(block))\n",
    "        block = []\n",
    "        continue\n",
    "    \n",
    "    if start_copy == True:\n",
    "        block.append(line)\n",
    "    "
   ]
  },
  {
   "cell_type": "code",
   "execution_count": null,
   "metadata": {},
   "outputs": [],
   "source": [
    "for block in blocks:\n",
    "    for level in [\"beginner\", \"intermediate\", \"hard\"]:\n",
    "        print(\"Level: \", level)\n",
    "\n",
    "        parameters = {\n",
    "            \"title\": \"Advanced Natural Language Processing\",\n",
    "            \"additional_task_description\": \"Create questions only about the definitions of the concepts, like mixing the definition of one with another, or mixing the use of one with the use of another. I need this to memorize this concepts.\",\n",
    "            \"quantity\": \"4\",\n",
    "            \"level\": level,\n",
    "            \"domain_knowledge\": block,\n",
    "        }\n",
    "\n",
    "        prompt_question_generator_formatted = prompt_question_generator.format(\n",
    "            additional_task_description=parameters[\"additional_task_description\"],\n",
    "            quantity=parameters[\"quantity\"],\n",
    "            level=parameters[\"level\"],\n",
    "            domain_knowledge=parameters[\"domain_knowledge\"],\n",
    "            json_schema=json_schema,\n",
    "        )\n",
    "\n",
    "        response = llm_gemini.generate_content(prompt_question_generator_formatted)\n",
    "        questions = json_repair.loads(response.text)\n",
    "\n",
    "        if not isinstance(questions, list):\n",
    "            questions = [questions]\n",
    "\n",
    "        for question in questions:\n",
    "            print(json.dumps(question, indent=4))\n",
    "            # add to the database\n",
    "            app_tables.questions.add_row(\n",
    "                created_at=datetime.now(),\n",
    "                title=parameters[\"title\"],\n",
    "                topic_description=question[\"topic_description\"],\n",
    "                level=question[\"level\"],\n",
    "                question=question[\"question\"],\n",
    "                type=\"true_or_false\",\n",
    "                answer_correct=question[\"answer_correct\"],\n",
    "                answers=None,\n",
    "                explanation=question[\"explanation\"],\n",
    "                # user=anvil.users.get_user(),\n",
    "            )"
   ]
  },
  {
   "cell_type": "code",
   "execution_count": null,
   "metadata": {},
   "outputs": [],
   "source": [
    "if not isinstance(questions, list):\n",
    "        questions = [questions]\n",
    "\n",
    "for question in questions:\n",
    "    print(json.dumps(question, indent=4))\n",
    "    # add to the database\n",
    "    # app_tables.questions.add_row(\n",
    "    #     created_at=datetime.now(),\n",
    "    #     title=parameters[\"title\"],\n",
    "    #     topic_description=question[\"topic_description\"],\n",
    "    #     level=question[\"level\"],\n",
    "    #     question=question[\"question\"],\n",
    "    #     type=\"true_or_false\",\n",
    "    #     answer_correct=question[\"answer_correct\"],\n",
    "    #     answers=None,\n",
    "    #     explanation=question[\"explanation\"],\n",
    "    #     user=anvil.users.get_user(),\n",
    "    # )"
   ]
  },
  {
   "cell_type": "code",
   "execution_count": null,
   "metadata": {},
   "outputs": [],
   "source": []
  },
  {
   "cell_type": "code",
   "execution_count": null,
   "metadata": {},
   "outputs": [],
   "source": []
  },
  {
   "cell_type": "code",
   "execution_count": null,
   "metadata": {},
   "outputs": [],
   "source": []
  }
 ],
 "metadata": {
  "kernelspec": {
   "display_name": ".venv",
   "language": "python",
   "name": "python3"
  },
  "language_info": {
   "codemirror_mode": {
    "name": "ipython",
    "version": 3
   },
   "file_extension": ".py",
   "mimetype": "text/x-python",
   "name": "python",
   "nbconvert_exporter": "python",
   "pygments_lexer": "ipython3",
   "version": "3.10.14"
  }
 },
 "nbformat": 4,
 "nbformat_minor": 2
}
