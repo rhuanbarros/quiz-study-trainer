{
 "cells": [
  {
   "cell_type": "code",
   "execution_count": 1,
   "metadata": {},
   "outputs": [],
   "source": [
    "from datetime import datetime\n",
    "import json"
   ]
  },
  {
   "cell_type": "code",
   "execution_count": 2,
   "metadata": {},
   "outputs": [
    {
     "name": "stdout",
     "output_type": "stream",
     "text": [
      "Connecting to wss://anvil.works/uplink\n",
      "Anvil websocket open\n",
      "Connected to \"Published\" as CLIENT\n"
     ]
    }
   ],
   "source": [
    "import anvil.server\n",
    "\n",
    "anvil.server.connect(\"client_KYOM4YFDIE4TMEO3UAOTEPRC-55C7JZ62MGB2UXA6\")"
   ]
  },
  {
   "cell_type": "code",
   "execution_count": 3,
   "metadata": {},
   "outputs": [],
   "source": [
    "from anvil.tables import app_tables\n",
    "\n",
    "questions = app_tables.questions.search()"
   ]
  },
  {
   "cell_type": "code",
   "execution_count": 7,
   "metadata": {},
   "outputs": [],
   "source": [
    "from dotenv import load_dotenv\n",
    "import json_repair\n",
    "import os\n",
    "\n",
    "import google.generativeai as genai\n",
    "\n",
    "\n",
    "key_gemini = os.environ[\"GOOGLE_API_KEY\"]\n",
    "\n",
    "genai.configure(api_key=key_gemini)"
   ]
  },
  {
   "cell_type": "code",
   "execution_count": 8,
   "metadata": {},
   "outputs": [],
   "source": [
    "# Create the model\n",
    "generation_config = {\n",
    "    \"temperature\": 1,\n",
    "    \"top_p\": 0.95,\n",
    "    \"top_k\": 64,\n",
    "    \"max_output_tokens\": 8192,\n",
    "    \"response_mime_type\": \"application/json\",\n",
    "}\n",
    "\n",
    "llm_gemini = genai.GenerativeModel(\n",
    "    model_name=\"gemini-1.5-flash\",\n",
    "    generation_config=generation_config,\n",
    "    # safety_settings = Adjust safety settings\n",
    "    # See https://ai.google.dev/gemini-api/docs/safety-settings\n",
    ")"
   ]
  },
  {
   "cell_type": "code",
   "execution_count": 10,
   "metadata": {},
   "outputs": [],
   "source": [
    "json_schema = \"\"\"\n",
    "  {\n",
    "    \"topic_description\": {\n",
    "      \"type\": \"string\",\n",
    "      \"description\": \"A sentence describing the sub-topic to which the question belongs. That means this sentence should specify in a granular level what specific sub-topic the question belongs to. It should be abstract in a way that other questions could be put in this description too. Use between 5 and 10 words.\"\n",
    "    },\n",
    "    \"level\": {\n",
    "      \"type\": \"string\",\n",
    "      \"description\": \"The difficulty level of the question. It should be only one of the following options: 'beginner', 'intermediate', 'advanced'.\"\n",
    "    },\n",
    "    \"question\": {\n",
    "      \"type\": \"string\",\n",
    "      \"description\": \"The actual question text. It should be a question of type TRUE or FALSE. It means that the questions should be an assertion that could be answered with TRUE or FALSE.\"\n",
    "    },\n",
    "    \"answer_correct\": {\n",
    "      \"type\": \"string\",\n",
    "      \"description\": \"The correct answer to the question. It should be only one of the following options: TRUE or FALSE\"\n",
    "    },\n",
    "    \"explanation\": {\n",
    "      \"type\": \"string\",\n",
    "      \"description\": \"An explanation or solution to the question.\"\n",
    "    }\n",
    "  }\n",
    "\"\"\""
   ]
  },
  {
   "cell_type": "code",
   "execution_count": 11,
   "metadata": {},
   "outputs": [],
   "source": [
    "prompt_question_generator = \"\"\"\n",
    "    TASK CONTEXT:\n",
    "    I am studying DATASTRUCTURES AND ALGORITHMS and I need to practice some questions on this topic. \n",
    "    \n",
    "    The objective is to memorize some patterns.\n",
    "    \n",
    "    TASK DESCRIPTION:\n",
    "    I would like you to generate a list of TRUE or FALSE questions.\n",
    "    Each question should be in the form of a statement that could be either TRUE or FALSE.\n",
    "    I will provide an example code in the CODE section.\n",
    "    You should not change the code.\n",
    "    You should not output the code, because it will be showed to the user automaticaly.\n",
    "    I want questions that ask what the code do. I some questions you should assert something false, in other something true about the code.\n",
    "    You should think in what this code could be used in a real case, or in DSA questions.\n",
    "\n",
    "    \n",
    "    CODE:\n",
    "    {code}\n",
    "    \n",
    "    TASK REQUIREMENTS:\n",
    "    Please refrain from creating questions that require mathematical calculations, but you may create questions with mathematical formulas.\n",
    "    You SHOULD use LATEX to write mathematical formulas and code, but you should use the Katex flavor.\n",
    "    Also you should put $$ in the beggining of the katex code and $$ at the end of the code. This is necessary because the interpreter needs it.\n",
    "    \n",
    "    TASK DETAILS:\n",
    "    You should create {quantity} questions of level {level}.\n",
    "   \n",
    "    \n",
    "    FORMAT OUTPUT INSTRUCTIONS:\n",
    "    It should be formatted in list of JSON objects as described below.\n",
    "    {json_schema}\n",
    "\"\"\""
   ]
  },
  {
   "cell_type": "code",
   "execution_count": 12,
   "metadata": {},
   "outputs": [],
   "source": [
    "code1 = \"\"\"\n",
    "        x = int(input())\n",
    "        \n",
    "        a = 10\n",
    "        b = 5\n",
    "        \n",
    "        bigger = max(a, b)\n",
    "        minor = min(a, b)\n",
    "        \n",
    "        if x % bigger != 0 and x % minor != 0:\n",
    "            print(-1)\n",
    "        else:\n",
    "            print( x // bigger + x % bigger // minor )\n",
    "    \"\"\""
   ]
  },
  {
   "cell_type": "code",
   "execution_count": 19,
   "metadata": {},
   "outputs": [],
   "source": [
    "parameters = {\n",
    "    \"title\": \"DSA - Code questions\",\n",
    "    \"quantity\": \"5\",\n",
    "    \"level\": \"medium\",\n",
    "    \"code\": code1,\n",
    "}"
   ]
  },
  {
   "cell_type": "code",
   "execution_count": 14,
   "metadata": {},
   "outputs": [],
   "source": [
    "prompt_question_generator_formatted = prompt_question_generator.format(\n",
    "    code=parameters[\"code\"],\n",
    "    quantity=parameters[\"quantity\"],\n",
    "    level=parameters[\"level\"],\n",
    "    json_schema=json_schema,\n",
    ")\n",
    "\n",
    "response = llm_gemini.generate_content(prompt_question_generator_formatted)\n",
    "questions = json_repair.loads(response.text)"
   ]
  },
  {
   "cell_type": "code",
   "execution_count": 21,
   "metadata": {},
   "outputs": [
    {
     "name": "stdout",
     "output_type": "stream",
     "text": [
      "{\n",
      "    \"topic_description\": \"Modulo operation and conditional statements\",\n",
      "    \"level\": \"intermediate\",\n",
      "    \"question\": \"The code calculates the sum of two divisions:  the integer division of the input number by the bigger number and the integer division of the remainder of the first division by the smaller number.\",\n",
      "    \"answer_correct\": \"TRUE\",\n",
      "    \"explanation\": \"The code first checks if the input number is divisible by either the bigger or smaller number. If not, it prints -1. Otherwise, it calculates the integer division of the input number by the bigger number, and then calculates the integer division of the remainder of the first division by the smaller number. Finally, it prints the sum of these two results.\"\n",
      "}\n",
      "{\n",
      "    \"topic_description\": \"Modulo operation and conditional statements\",\n",
      "    \"level\": \"intermediate\",\n",
      "    \"question\": \"The code will always return a negative number if the input number is not divisible by either $\\\\frac{a}{b}$ or $\\\\frac{b}{a}$.\",\n",
      "    \"answer_correct\": \"FALSE\",\n",
      "    \"explanation\": \"The code will only return a negative number if the input number is not divisible by both $a$ and $b$.  If the input number is divisible by either $a$ or $b$, the code will return a non-negative number.\"\n",
      "}\n",
      "{\n",
      "    \"topic_description\": \"Modulo operation and conditional statements\",\n",
      "    \"level\": \"intermediate\",\n",
      "    \"question\": \"The code will print -1 if the input number is divisible by $\\\\frac{a}{b}$ but not by $\\\\frac{b}{a}$.\",\n",
      "    \"answer_correct\": \"FALSE\",\n",
      "    \"explanation\": \"The code will only print -1 if the input number is not divisible by both $a$ and $b$.  If the input number is divisible by either $a$ or $b$, the code will return a non-negative number.\"\n",
      "}\n",
      "{\n",
      "    \"topic_description\": \"Modulo operation and conditional statements\",\n",
      "    \"level\": \"intermediate\",\n",
      "    \"question\": \"The code uses the modulo operation to determine if the input number is divisible by both $a$ and $b$.\",\n",
      "    \"answer_correct\": \"TRUE\",\n",
      "    \"explanation\": \"The code uses the modulo operation to check if the input number is divisible by both $a$ and $b$. If the remainder of the division of the input number by $a$ is not 0 or the remainder of the division of the input number by $b$ is not 0, the code prints -1.\"\n",
      "}\n",
      "{\n",
      "    \"topic_description\": \"Modulo operation and conditional statements\",\n",
      "    \"level\": \"intermediate\",\n",
      "    \"question\": \"The code implements the Greatest Common Divisor (GCD) algorithm to find the GCD of $a$ and $b$.\",\n",
      "    \"answer_correct\": \"FALSE\",\n",
      "    \"explanation\": \"The code does not implement the GCD algorithm. The code only checks if the input number is divisible by both $a$ and $b$.\"\n",
      "}\n"
     ]
    }
   ],
   "source": [
    "if not isinstance(questions, list):\n",
    "        questions = [questions]\n",
    "\n",
    "for question in questions:\n",
    "    print(json.dumps(question, indent=4))\n",
    "    # add to the database\n",
    "    app_tables.questions.add_row(\n",
    "        created_at=datetime.now(),\n",
    "        title=parameters[\"title\"],\n",
    "        topic_description=question[\"topic_description\"],\n",
    "        level=question[\"level\"],\n",
    "        question=question[\"question\"],\n",
    "        type=\"true_or_false\",\n",
    "        answer_correct=f\"{question['question']} \\n\\n {code1}\",\n",
    "        answers=None,\n",
    "        explanation=question[\"explanation\"],\n",
    "        # user=anvil.users.get_user(),\n",
    "    )"
   ]
  },
  {
   "cell_type": "code",
   "execution_count": null,
   "metadata": {},
   "outputs": [],
   "source": []
  },
  {
   "cell_type": "code",
   "execution_count": null,
   "metadata": {},
   "outputs": [],
   "source": []
  },
  {
   "cell_type": "code",
   "execution_count": null,
   "metadata": {},
   "outputs": [],
   "source": []
  }
 ],
 "metadata": {
  "kernelspec": {
   "display_name": ".venv",
   "language": "python",
   "name": "python3"
  },
  "language_info": {
   "codemirror_mode": {
    "name": "ipython",
    "version": 3
   },
   "file_extension": ".py",
   "mimetype": "text/x-python",
   "name": "python",
   "nbconvert_exporter": "python",
   "pygments_lexer": "ipython3",
   "version": "3.10.14"
  }
 },
 "nbformat": 4,
 "nbformat_minor": 2
}
